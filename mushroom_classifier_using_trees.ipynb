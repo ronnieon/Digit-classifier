{
 "cells": [
  {
   "cell_type": "code",
   "execution_count": 1,
   "id": "6b424787",
   "metadata": {},
   "outputs": [],
   "source": [
    "import numpy as np\n",
    "import matplotlib.pyplot as plt"
   ]
  },
  {
   "cell_type": "code",
   "execution_count": 2,
   "id": "7f45804a",
   "metadata": {},
   "outputs": [],
   "source": [
    "xtrain = np.array([[1,1,1],\n",
    "                   [1,0,1],\n",
    "                   [1,0,0],\n",
    "                   [1,0,0],\n",
    "                   [1,1,1],\n",
    "                   [0,1,1],\n",
    "                   [0,0,0],\n",
    "                   [1,0,1],\n",
    "                   [0,1,0],\n",
    "                   [1,0,0]])\n",
    "ytrain = np.array([1,1,0,0,1,0,0,1,1,0])"
   ]
  },
  {
   "cell_type": "code",
   "execution_count": 4,
   "id": "e1c2ae86",
   "metadata": {},
   "outputs": [
    {
     "name": "stdout",
     "output_type": "stream",
     "text": [
      "[[1 1 1]\n",
      " [1 0 1]\n",
      " [1 0 0]\n",
      " [1 0 0]\n",
      " [1 1 1]\n",
      " [0 1 1]\n",
      " [0 0 0]\n",
      " [1 0 1]\n",
      " [0 1 0]\n",
      " [1 0 0]]\n"
     ]
    }
   ],
   "source": [
    "print(xtrain[0:10])"
   ]
  },
  {
   "cell_type": "code",
   "execution_count": 5,
   "id": "0faf4b79",
   "metadata": {},
   "outputs": [
    {
     "name": "stdout",
     "output_type": "stream",
     "text": [
      "[1 1 0 0 1 0 0 1 1 0]\n"
     ]
    }
   ],
   "source": [
    "print(ytrain)"
   ]
  },
  {
   "cell_type": "code",
   "execution_count": 7,
   "id": "64b2f5b0",
   "metadata": {},
   "outputs": [
    {
     "name": "stdout",
     "output_type": "stream",
     "text": [
      "Shape XTrain - (10, 3)\n",
      "Shape YTrain - (10,)\n",
      "M - 10\n"
     ]
    }
   ],
   "source": [
    "print(\"Shape XTrain -\", xtrain.shape)\n",
    "print(\"Shape YTrain -\", ytrain.shape)\n",
    "print(\"M -\", len(xtrain))"
   ]
  },
  {
   "cell_type": "code",
   "execution_count": 8,
   "id": "45d8b7b5",
   "metadata": {},
   "outputs": [],
   "source": [
    "def entropy_function(y) :\n",
    "    entropy = 0\n",
    "    if len(y) != 0:\n",
    "        p1 = len(y[y==1])/len(y)\n",
    "\n",
    "        if p1 != 1 and p1 != 0 :\n",
    "            entropy = (-p1)*(np.log2(p1)) - (1-p1)(np.log2(1-p1))\n",
    "            \n",
    "    return entropy"
   ]
  },
  {
   "cell_type": "code",
   "execution_count": null,
   "id": "00c9bb4e",
   "metadata": {},
   "outputs": [],
   "source": [
    "def data_split(X, node_index, feature)"
   ]
  }
 ],
 "metadata": {
  "kernelspec": {
   "display_name": "3.9.6",
   "language": "python",
   "name": "python3"
  },
  "language_info": {
   "codemirror_mode": {
    "name": "ipython",
    "version": 3
   },
   "file_extension": ".py",
   "mimetype": "text/x-python",
   "name": "python",
   "nbconvert_exporter": "python",
   "pygments_lexer": "ipython3",
   "version": "3.9.6"
  }
 },
 "nbformat": 4,
 "nbformat_minor": 5
}
